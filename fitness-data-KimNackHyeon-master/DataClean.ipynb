{
 "cells": [
  {
   "cell_type": "code",
   "execution_count": 3,
   "metadata": {},
   "outputs": [],
   "source": [
    "import os\n",
    "import csv\n",
    "import json\n",
    "import pandas as pd\n",
    "import natsort\n",
    "import datetime"
   ]
  },
  {
   "cell_type": "code",
   "execution_count": 99,
   "metadata": {},
   "outputs": [],
   "source": [
    "def heart_file(fname,count,uname):\n",
    "    f = open('sokulee/' + uname + '/' + fname) # file open\n",
    "\n",
    "    json_test = json.loads(f.read())\n",
    "\n",
    "    emp_data = json_test['activities-heart-intraday']\n",
    "    # test = json_test['activities-heart']\n",
    "    filename = 'all_user_hearts.csv'\n",
    "    employ_data = open(filename, 'a')\n",
    "    csvwriter = csv.writer(employ_data)\n",
    "    li = emp_data['dataset']\n",
    "\n",
    "    for emp in li:\n",
    "        emp['USERNAME'] = uname\n",
    "        emp['DATE'] = json_test['activities-heart'][0]['dateTime']\n",
    "        if count == 0:\n",
    "            header = emp.keys()\n",
    "            csvwriter.writerow(header)\n",
    "            count = 1\n",
    "        csvwriter.writerow(emp.values())\n",
    "    employ_data.close()"
   ]
  },
  {
   "cell_type": "code",
   "execution_count": 1,
   "metadata": {},
   "outputs": [],
   "source": [
    "## data가 없는 파일은 제외 시켰음(A08_20160401, A052_20160402, A073_20160402)\n",
    "\n",
    "def steps_file(fname,step_count,uname):\n",
    "    f = open('sokulee/' + uname + '/' + fname) # file open\n",
    "\n",
    "    json_test = json.loads(f.read())\n",
    "    \n",
    "    emp_data = json_test['activities-steps-intraday']\n",
    "    # test = json_test['activities-heart']\n",
    "    filename = 'all_user_steps.csv'\n",
    "    employ_data = open(filename, 'a')\n",
    "    csvwriter = csv.writer(employ_data)\n",
    "    li = emp_data['dataset']\n",
    "\n",
    "    for emp in li:\n",
    "        emp['USERNAME'] = uname\n",
    "        emp['DATE'] = json_test['activities-steps'][0]['dateTime']\n",
    "        if step_count == 0:\n",
    "            header = emp.keys()\n",
    "            csvwriter.writerow(header)\n",
    "            step_count = 1\n",
    "        csvwriter.writerow(emp.values())\n",
    "    employ_data.close()"
   ]
  },
  {
   "cell_type": "code",
   "execution_count": 2,
   "metadata": {},
   "outputs": [],
   "source": [
    "def sleeps_file(fname,sleep_count,uname):\n",
    "    f = open('sokulee/' + uname + '/' + fname) # file open\n",
    "\n",
    "    json_test = json.loads(f.read())\n",
    "    if bool(json_test['sleep']) == False:\n",
    "        return -1\n",
    "    emp_data = json_test['sleep'][0]\n",
    "\n",
    "    filename = 'all_user_sleeps.csv'\n",
    "    employ_data = open(filename, 'a')\n",
    "    csvwriter = csv.writer(employ_data)\n",
    "    # li = emp_data['dataset']\n",
    "    emp = {}\n",
    "    emp['USERNAME'] = uname\n",
    "    emp['DATE'] = json_test['sleep'][0]['dateOfSleep']\n",
    "    emp['STARTTIME'] = json_test['sleep'][0]['minuteData'][0]['dateTime']\n",
    "    emp['MINUTESASLEEP'] = json_test['sleep'][0]['minutesAsleep']\n",
    "    emp['MINUTESAWAKE'] = json_test['sleep'][0]['minutesAwake']\n",
    "    emp['TIMEINBED'] = json_test['sleep'][0]['timeInBed']\n",
    "    \n",
    "    if sleep_count == 0:\n",
    "        header = emp.keys()\n",
    "        csvwriter.writerow(header)\n",
    "        sleep_count = 1\n",
    "    csvwriter.writerow(emp.values())\n",
    "    employ_data.close()"
   ]
  },
  {
   "cell_type": "code",
   "execution_count": 6,
   "metadata": {},
   "outputs": [],
   "source": [
    "user_list = os.listdir('sokulee/')\n",
    "user_list = natsort.natsorted(user_list)\n",
    "user_list.remove('.DS_Store')"
   ]
  },
  {
   "cell_type": "code",
   "execution_count": 7,
   "metadata": {
    "scrolled": false
   },
   "outputs": [],
   "source": [
    "count = 0\n",
    "step_count = 0\n",
    "sleep_count = 0\n",
    "for i in user_list:\n",
    "    ul = os.listdir('sokulee/' + i + '/')\n",
    "    heart_list = []\n",
    "    steps_list = []\n",
    "    sleep_list = []\n",
    "    ul.sort()\n",
    "    \n",
    "    for j in ul:\n",
    "        if 'heart' in j:\n",
    "            heart_list.append(j)\n",
    "        if 'steps' in j:\n",
    "            steps_list.append(j)\n",
    "        if 'sleep' in j:\n",
    "            sleep_list.append(j)\n",
    "            \n",
    "    for heart_index in range(len(heart_list)):\n",
    "        heart_file(heart_list[heart_index],count,i)\n",
    "        count = 1\n",
    "    for step_index in range(len(steps_list)):\n",
    "        steps_file(steps_list[step_index],step_count,i)\n",
    "        step_count = 1\n",
    "        \n",
    "    for sleep_index in range(len(sleep_list)):\n",
    "        sleeps_file(sleep_list[sleep_index],sleep_count,i)\n",
    "        sleep_count = 1\n",
    "        print(sleep_list[sleep_index], ' ', i)\n"
   ]
  },
  {
   "cell_type": "code",
   "execution_count": 47,
   "metadata": {},
   "outputs": [],
   "source": [
    "all_heart = pd.read_csv('all_user_hearts.csv')\n",
    "all_heart = pd.DataFrame(all_heart, columns=['USERNAME','DATE','time','value'])\n",
    "all_heart = all_heart.rename(columns = {'value': 'VALUE'})\n",
    "all_heart = all_heart.rename(columns = {'time': 'TIME'})"
   ]
  },
  {
   "cell_type": "code",
   "execution_count": 49,
   "metadata": {},
   "outputs": [],
   "source": [
    "all_heart = all_heart.to_csv('all_user_hearts.csv',index=False)"
   ]
  },
  {
   "cell_type": "code",
   "execution_count": 77,
   "metadata": {},
   "outputs": [
    {
     "data": {
      "text/html": [
       "<div>\n",
       "<style scoped>\n",
       "    .dataframe tbody tr th:only-of-type {\n",
       "        vertical-align: middle;\n",
       "    }\n",
       "\n",
       "    .dataframe tbody tr th {\n",
       "        vertical-align: top;\n",
       "    }\n",
       "\n",
       "    .dataframe thead th {\n",
       "        text-align: right;\n",
       "    }\n",
       "</style>\n",
       "<table border=\"1\" class=\"dataframe\">\n",
       "  <thead>\n",
       "    <tr style=\"text-align: right;\">\n",
       "      <th></th>\n",
       "      <th>TIME</th>\n",
       "      <th>STEPS</th>\n",
       "      <th>USERNAME</th>\n",
       "      <th>DATE</th>\n",
       "    </tr>\n",
       "  </thead>\n",
       "  <tbody>\n",
       "    <tr>\n",
       "      <th>0</th>\n",
       "      <td>00:00:00</td>\n",
       "      <td>0</td>\n",
       "      <td>A01</td>\n",
       "      <td>2016-04-01</td>\n",
       "    </tr>\n",
       "    <tr>\n",
       "      <th>1</th>\n",
       "      <td>00:01:00</td>\n",
       "      <td>0</td>\n",
       "      <td>A01</td>\n",
       "      <td>2016-04-01</td>\n",
       "    </tr>\n",
       "    <tr>\n",
       "      <th>2</th>\n",
       "      <td>00:02:00</td>\n",
       "      <td>0</td>\n",
       "      <td>A01</td>\n",
       "      <td>2016-04-01</td>\n",
       "    </tr>\n",
       "    <tr>\n",
       "      <th>3</th>\n",
       "      <td>00:03:00</td>\n",
       "      <td>0</td>\n",
       "      <td>A01</td>\n",
       "      <td>2016-04-01</td>\n",
       "    </tr>\n",
       "    <tr>\n",
       "      <th>4</th>\n",
       "      <td>00:04:00</td>\n",
       "      <td>0</td>\n",
       "      <td>A01</td>\n",
       "      <td>2016-04-01</td>\n",
       "    </tr>\n",
       "    <tr>\n",
       "      <th>5</th>\n",
       "      <td>00:05:00</td>\n",
       "      <td>0</td>\n",
       "      <td>A01</td>\n",
       "      <td>2016-04-01</td>\n",
       "    </tr>\n",
       "    <tr>\n",
       "      <th>6</th>\n",
       "      <td>00:06:00</td>\n",
       "      <td>16</td>\n",
       "      <td>A01</td>\n",
       "      <td>2016-04-01</td>\n",
       "    </tr>\n",
       "    <tr>\n",
       "      <th>7</th>\n",
       "      <td>00:07:00</td>\n",
       "      <td>0</td>\n",
       "      <td>A01</td>\n",
       "      <td>2016-04-01</td>\n",
       "    </tr>\n",
       "  </tbody>\n",
       "</table>\n",
       "</div>"
      ],
      "text/plain": [
       "       TIME STEPS USERNAME        DATE\n",
       "0  00:00:00     0      A01  2016-04-01\n",
       "1  00:01:00     0      A01  2016-04-01\n",
       "2  00:02:00     0      A01  2016-04-01\n",
       "3  00:03:00     0      A01  2016-04-01\n",
       "4  00:04:00     0      A01  2016-04-01\n",
       "5  00:05:00     0      A01  2016-04-01\n",
       "6  00:06:00    16      A01  2016-04-01\n",
       "7  00:07:00     0      A01  2016-04-01"
      ]
     },
     "execution_count": 77,
     "metadata": {},
     "output_type": "execute_result"
    }
   ],
   "source": [
    "all_steps = pd.read_csv('all_user_steps.csv')\n",
    "all_steps.head(8)"
   ]
  },
  {
   "cell_type": "code",
   "execution_count": 78,
   "metadata": {},
   "outputs": [],
   "source": [
    "date = datetime.datetime.strptime(all_steps.iloc[1]['TIME'],\"%H:%M:%S\")"
   ]
  },
  {
   "cell_type": "code",
   "execution_count": 105,
   "metadata": {},
   "outputs": [],
   "source": [
    "all_steps = all_steps[all_steps.TIME != 'TIME']"
   ]
  },
  {
   "cell_type": "code",
   "execution_count": 115,
   "metadata": {
    "scrolled": true
   },
   "outputs": [
    {
     "name": "stderr",
     "output_type": "stream",
     "text": [
      "/home/khz/anaconda3/envs/nack/lib/python3.6/site-packages/ipykernel_launcher.py:1: SettingWithCopyWarning: \n",
      "A value is trying to be set on a copy of a slice from a DataFrame.\n",
      "Try using .loc[row_indexer,col_indexer] = value instead\n",
      "\n",
      "See the caveats in the documentation: http://pandas.pydata.org/pandas-docs/stable/indexing.html#indexing-view-versus-copy\n",
      "  \"\"\"Entry point for launching an IPython kernel.\n"
     ]
    }
   ],
   "source": [
    "all_steps['HOUR'] = all_steps['TIME'].apply(lambda x : pd.to_datetime(x).hour )"
   ]
  },
  {
   "cell_type": "code",
   "execution_count": 120,
   "metadata": {},
   "outputs": [
    {
     "name": "stderr",
     "output_type": "stream",
     "text": [
      "/home/khz/anaconda3/envs/nack/lib/python3.6/site-packages/ipykernel_launcher.py:1: SettingWithCopyWarning: \n",
      "A value is trying to be set on a copy of a slice from a DataFrame.\n",
      "Try using .loc[row_indexer,col_indexer] = value instead\n",
      "\n",
      "See the caveats in the documentation: http://pandas.pydata.org/pandas-docs/stable/indexing.html#indexing-view-versus-copy\n",
      "  \"\"\"Entry point for launching an IPython kernel.\n"
     ]
    }
   ],
   "source": [
    "all_steps['MINUTE'] = all_steps['TIME'].apply(lambda x : pd.to_datetime(x).minute )"
   ]
  },
  {
   "cell_type": "code",
   "execution_count": 123,
   "metadata": {},
   "outputs": [],
   "source": [
    "all_steps = pd.DataFrame(all_steps, columns=['USERNAME','DATE','TIME','HOUR','MINUTE','STEPS'])"
   ]
  },
  {
   "cell_type": "code",
   "execution_count": 125,
   "metadata": {
    "collapsed": true
   },
   "outputs": [],
   "source": [
    "all_steps = all_steps.to_csv('all_user_steps.csv',index=False)"
   ]
  },
  {
   "cell_type": "code",
   "execution_count": 4,
   "metadata": {},
   "outputs": [
    {
     "data": {
      "text/html": [
       "<div>\n",
       "<style scoped>\n",
       "    .dataframe tbody tr th:only-of-type {\n",
       "        vertical-align: middle;\n",
       "    }\n",
       "\n",
       "    .dataframe tbody tr th {\n",
       "        vertical-align: top;\n",
       "    }\n",
       "\n",
       "    .dataframe thead th {\n",
       "        text-align: right;\n",
       "    }\n",
       "</style>\n",
       "<table border=\"1\" class=\"dataframe\">\n",
       "  <thead>\n",
       "    <tr style=\"text-align: right;\">\n",
       "      <th></th>\n",
       "      <th>USERNAME</th>\n",
       "      <th>DATE</th>\n",
       "      <th>STARTTIME</th>\n",
       "      <th>MINUTESASLEEP</th>\n",
       "      <th>MINUTESAWAKE</th>\n",
       "      <th>TIMEINBED</th>\n",
       "    </tr>\n",
       "  </thead>\n",
       "  <tbody>\n",
       "    <tr>\n",
       "      <th>0</th>\n",
       "      <td>A01</td>\n",
       "      <td>2016-04-01</td>\n",
       "      <td>02:39:00</td>\n",
       "      <td>485</td>\n",
       "      <td>26</td>\n",
       "      <td>511</td>\n",
       "    </tr>\n",
       "    <tr>\n",
       "      <th>1</th>\n",
       "      <td>A01</td>\n",
       "      <td>2016-04-02</td>\n",
       "      <td>02:09:00</td>\n",
       "      <td>512</td>\n",
       "      <td>37</td>\n",
       "      <td>549</td>\n",
       "    </tr>\n",
       "    <tr>\n",
       "      <th>2</th>\n",
       "      <td>A01</td>\n",
       "      <td>2016-04-04</td>\n",
       "      <td>01:52:30</td>\n",
       "      <td>335</td>\n",
       "      <td>11</td>\n",
       "      <td>346</td>\n",
       "    </tr>\n",
       "    <tr>\n",
       "      <th>3</th>\n",
       "      <td>A01</td>\n",
       "      <td>2016-04-05</td>\n",
       "      <td>02:04:00</td>\n",
       "      <td>311</td>\n",
       "      <td>24</td>\n",
       "      <td>335</td>\n",
       "    </tr>\n",
       "    <tr>\n",
       "      <th>4</th>\n",
       "      <td>A01</td>\n",
       "      <td>2016-04-06</td>\n",
       "      <td>01:49:00</td>\n",
       "      <td>491</td>\n",
       "      <td>59</td>\n",
       "      <td>551</td>\n",
       "    </tr>\n",
       "  </tbody>\n",
       "</table>\n",
       "</div>"
      ],
      "text/plain": [
       "  USERNAME        DATE STARTTIME  MINUTESASLEEP  MINUTESAWAKE  TIMEINBED\n",
       "0      A01  2016-04-01  02:39:00            485            26        511\n",
       "1      A01  2016-04-02  02:09:00            512            37        549\n",
       "2      A01  2016-04-04  01:52:30            335            11        346\n",
       "3      A01  2016-04-05  02:04:00            311            24        335\n",
       "4      A01  2016-04-06  01:49:00            491            59        551"
      ]
     },
     "execution_count": 4,
     "metadata": {},
     "output_type": "execute_result"
    }
   ],
   "source": [
    "all_sleeps = pd.read_csv('all_user_sleeps.csv')\n",
    "all_sleeps.head(5)"
   ]
  },
  {
   "cell_type": "code",
   "execution_count": null,
   "metadata": {
    "collapsed": true
   },
   "outputs": [],
   "source": []
  }
 ],
 "metadata": {
  "kernelspec": {
   "display_name": "Python 3",
   "language": "python",
   "name": "python3"
  },
  "language_info": {
   "codemirror_mode": {
    "name": "ipython",
    "version": 3
   },
   "file_extension": ".py",
   "mimetype": "text/x-python",
   "name": "python",
   "nbconvert_exporter": "python",
   "pygments_lexer": "ipython3",
   "version": "3.6.8"
  }
 },
 "nbformat": 4,
 "nbformat_minor": 2
}
